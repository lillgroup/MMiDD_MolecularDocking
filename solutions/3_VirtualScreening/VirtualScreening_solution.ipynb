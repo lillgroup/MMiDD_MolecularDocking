{
 "cells": [
  {
   "cell_type": "markdown",
   "metadata": {},
   "source": [
    "# Virtual Screening\n",
    "***\n",
    "\n",
    "Authors:\n",
    "\n",
    "- Peter Rüthemann, peter.ruethemann@unibas.ch, 2023\n",
    "- Manuel Sellner, 2023\n",
    "- Markus Lill, 2023"
   ]
  },
  {
   "cell_type": "markdown",
   "metadata": {},
   "source": [
    "## Aim of this notebook\n",
    "\n",
    "This notebook is used to teach how to prepare, perform, and analyze virtual screenings using the smina docking program."
   ]
  },
  {
   "cell_type": "markdown",
   "metadata": {},
   "source": [
    "### References\n",
    "- Molecular docking:\n",
    "    - Pagadala _et al._, [_Biophy Rev_ (2017), __9__, 91-102](https://doi.org/10.1007/s12551-016-0247-1)\n",
    "    - Meng _et al._, [_Curr Comput Aided Drug Des_ (2011), __7__, 2, 146-157](https://doi.org/10.2174/157340911795677602)\n",
    "    - Gromski _et al._, [_Nat Rev Chem_ (2019), __3__, 119-128](https://doi.org/10.1038/s41570-018-0066-y)\n",
    "- Docking and scoring function assessment:\n",
    "    - Warren _et al._, [_J Med Chem_ (2006), __49__, 20, 5912-31](https://doi.org/10.1021/jm050362n)\n",
    "    - Wang _et al._, [_Phys Chem Chem Phys_ (2016), __18__, 18, 12964-75](https://doi.org/10.1039/c6cp01555g)\n",
    "    - Koes _et al._, [_J Chem Inf Model_ (2013), __53__, 8, 1893-1904](https://doi.org/10.1021/ci300604z)\n",
    "    - Kimber _et al._, [_Int J Mol Sci_, (2021), __22__, 9, 1-34](https://doi.org/10.3390/ijms22094435)\n",
    "    - McNutt _et al._, [_J Cheminform_ (2021), __13__, 43, 13-43](https://doi.org/10.1186/s13321-021-00522-2)\n",
    "- Visual inspection of docking results: Fischer et al., [_J Med Chem_ (2021), __64__, 5, 2489–2500](https://doi.org/10.1021/acs.jmedchem.0c02227)\n",
    "- [Other Tutorial](https://chem-workflows.com/articles/2021/09/18/1-molecular-docking/)\n",
    "- Tools used\n",
    "    - [OpenBabel](http://openbabel.org/wiki/Main_Page)\n",
    "    - [Smina](https://sourceforge.net/projects/smina/)\n",
    "    - [NGLView](http://nglviewer.org/nglview/latest/)\n",
    "    "
   ]
  },
  {
   "cell_type": "markdown",
   "metadata": {},
   "source": [
    "## Practical\n",
    "\n",
    "In this tutorial, we will use the docking software [Smina](https://sourceforge.net/projects/smina/) to perform a virtual sreening for ligands of the androgen receptor. For this task we weill re-use the receptor structure from the Molecular Docking part.\n",
    "\n",
    "* Smina ([_J Chem Inf Model_ (2013), __53__, 8, 1893-1904](https://doi.org/10.1021/ci300604z)) belongs to the AutoDock family of docking software that requires preparation of protein and ligand prior to docking. \n",
    "* After docking, results will be analyzed for their agreement with experimental data."
   ]
  },
  {
   "cell_type": "code",
   "execution_count": 2,
   "metadata": {},
   "outputs": [],
   "source": [
    "# import libraries\n",
    "from pathlib import Path\n",
    "from os import path, makedirs\n",
    "import subprocess\n",
    "from rdkit import Chem\n",
    "from rdkit.Chem import AllChem\n",
    "from tqdm.notebook import tqdm\n",
    "from openbabel import pybel\n",
    "\n",
    "import pandas as pd\n",
    "import seaborn as sns\n",
    "import matplotlib.pyplot as plt\n",
    "import plotly.express as px\n",
    "import molplotly\n",
    "from sklearn.metrics import roc_curve, auc"
   ]
  },
  {
   "cell_type": "markdown",
   "metadata": {},
   "source": [
    "## Analyze dataset"
   ]
  },
  {
   "cell_type": "markdown",
   "metadata": {},
   "source": [
    "Before we start with the virtual screening, we would like to learn more about the compounds we're about to dock. For this, we will first read in the data contained in the `input/ligands.csv` file and visualize some properties. The file contains the names of the compounds, the affinity in µM, the molecular weight (MW), logP, number of rotatable bonds (nrotb), hbond acceptors (HBA), hbond donors (HBD), polar surface area (PSA), number of heavy atoms (n_atoms), and the SMILES string of the molecule."
   ]
  },
  {
   "cell_type": "code",
   "execution_count": 3,
   "metadata": {
    "scrolled": true
   },
   "outputs": [
    {
     "data": {
      "text/html": [
       "<div>\n",
       "<style scoped>\n",
       "    .dataframe tbody tr th:only-of-type {\n",
       "        vertical-align: middle;\n",
       "    }\n",
       "\n",
       "    .dataframe tbody tr th {\n",
       "        vertical-align: top;\n",
       "    }\n",
       "\n",
       "    .dataframe thead th {\n",
       "        text-align: right;\n",
       "    }\n",
       "</style>\n",
       "<table border=\"1\" class=\"dataframe\">\n",
       "  <thead>\n",
       "    <tr style=\"text-align: right;\">\n",
       "      <th></th>\n",
       "      <th>Name</th>\n",
       "      <th>Affinity[µM]</th>\n",
       "      <th>MW</th>\n",
       "      <th>logP</th>\n",
       "      <th>nrotb</th>\n",
       "      <th>HBA</th>\n",
       "      <th>HBD</th>\n",
       "      <th>PSA</th>\n",
       "      <th>n_atoms</th>\n",
       "      <th>Smiles</th>\n",
       "    </tr>\n",
       "  </thead>\n",
       "  <tbody>\n",
       "    <tr>\n",
       "      <th>0</th>\n",
       "      <td>9905296</td>\n",
       "      <td>0.001600</td>\n",
       "      <td>324.298</td>\n",
       "      <td>3.2207</td>\n",
       "      <td>3</td>\n",
       "      <td>3</td>\n",
       "      <td>1</td>\n",
       "      <td>45.33</td>\n",
       "      <td>23</td>\n",
       "      <td>O=c1cc(c2c([nH]1)cc1c(c2)N(CCO1)CC1CC1)C(F)(F)F</td>\n",
       "    </tr>\n",
       "    <tr>\n",
       "      <th>1</th>\n",
       "      <td>D05</td>\n",
       "      <td>15.708427</td>\n",
       "      <td>284.393</td>\n",
       "      <td>5.0882</td>\n",
       "      <td>6</td>\n",
       "      <td>2</td>\n",
       "      <td>1</td>\n",
       "      <td>29.46</td>\n",
       "      <td>21</td>\n",
       "      <td>CC[C@@H]([C@H](c1ccc(cc1)O)CC)c1ccc(cc1)OC</td>\n",
       "    </tr>\n",
       "    <tr>\n",
       "      <th>2</th>\n",
       "      <td>H09</td>\n",
       "      <td>22.019916</td>\n",
       "      <td>354.486</td>\n",
       "      <td>6.4955</td>\n",
       "      <td>3</td>\n",
       "      <td>0</td>\n",
       "      <td>0</td>\n",
       "      <td>0.00</td>\n",
       "      <td>19</td>\n",
       "      <td>ClC(C(c1ccc(cc1)Cl)c1ccc(cc1)Cl)(Cl)Cl</td>\n",
       "    </tr>\n",
       "    <tr>\n",
       "      <th>3</th>\n",
       "      <td>23648052</td>\n",
       "      <td>0.243000</td>\n",
       "      <td>394.355</td>\n",
       "      <td>5.3518</td>\n",
       "      <td>7</td>\n",
       "      <td>2</td>\n",
       "      <td>1</td>\n",
       "      <td>36.10</td>\n",
       "      <td>27</td>\n",
       "      <td>O=c1[nH]c2ccc(cc2c(c1)C(F)(F)F)N(CC(F)(F)F)CCC...</td>\n",
       "    </tr>\n",
       "    <tr>\n",
       "      <th>4</th>\n",
       "      <td>52944606</td>\n",
       "      <td>1.100000</td>\n",
       "      <td>456.614</td>\n",
       "      <td>5.1355</td>\n",
       "      <td>12</td>\n",
       "      <td>5</td>\n",
       "      <td>2</td>\n",
       "      <td>75.99</td>\n",
       "      <td>33</td>\n",
       "      <td>OC[C@H](COc1ccc(cc1C)C(c1ccc(c(c1)C)OCC(=O)C(C...</td>\n",
       "    </tr>\n",
       "  </tbody>\n",
       "</table>\n",
       "</div>"
      ],
      "text/plain": [
       "       Name  Affinity[µM]       MW    logP  nrotb  HBA  HBD    PSA  n_atoms  \\\n",
       "0   9905296      0.001600  324.298  3.2207      3    3    1  45.33       23   \n",
       "1       D05     15.708427  284.393  5.0882      6    2    1  29.46       21   \n",
       "2       H09     22.019916  354.486  6.4955      3    0    0   0.00       19   \n",
       "3  23648052      0.243000  394.355  5.3518      7    2    1  36.10       27   \n",
       "4  52944606      1.100000  456.614  5.1355     12    5    2  75.99       33   \n",
       "\n",
       "                                              Smiles  \n",
       "0    O=c1cc(c2c([nH]1)cc1c(c2)N(CCO1)CC1CC1)C(F)(F)F  \n",
       "1         CC[C@@H]([C@H](c1ccc(cc1)O)CC)c1ccc(cc1)OC  \n",
       "2             ClC(C(c1ccc(cc1)Cl)c1ccc(cc1)Cl)(Cl)Cl  \n",
       "3  O=c1[nH]c2ccc(cc2c(c1)C(F)(F)F)N(CC(F)(F)F)CCC...  \n",
       "4  OC[C@H](COc1ccc(cc1C)C(c1ccc(c(c1)C)OCC(=O)C(C...  "
      ]
     },
     "execution_count": 3,
     "metadata": {},
     "output_type": "execute_result"
    }
   ],
   "source": [
    "information = pd.read_csv('input/ligands.csv')\n",
    "information.head()"
   ]
  },
  {
   "cell_type": "markdown",
   "metadata": {},
   "source": [
    "Using the loaded information, we will plot the distributions of properties using histograms."
   ]
  },
  {
   "cell_type": "code",
   "execution_count": 3,
   "metadata": {},
   "outputs": [
    {
     "data": {
      "image/png": "[encoded data removed]",
      "text/plain": [
       "<Figure size 720x720 with 7 Axes>"
      ]
     },
     "metadata": {
      "needs_background": "light"
     },
     "output_type": "display_data"
    }
   ],
   "source": [
    "# We start by creating a figure containing a total of 9 subplots (3 rows, 3 columns)\n",
    "fig, axes = plt.subplots(3, 3, figsize=(10, 10))\n",
    "\n",
    "# Next, we create histograms for the desired properties\n",
    "# We can specify which subplot to fill using row and column indices of the axes\n",
    "axes[0][0].set_title(\"Molecular Weight\")\n",
    "sns.histplot(data=information, x='MW', ax=axes[0,0], kde=True)\n",
    "\n",
    "axes[0][1].set_title(\"logP\")\n",
    "sns.histplot(data=information, x='logP', ax=axes[0,1], kde=True)\n",
    "\n",
    "axes[0][2].set_title(\"Rotatable Bonds\")\n",
    "sns.histplot(data=information, x='nrotb', ax=axes[0,2], kde=True)\n",
    "\n",
    "axes[1][0].set_title(\"Hbond Acceptors\")\n",
    "sns.histplot(data=information, x='HBA', ax=axes[1,0])\n",
    "\n",
    "axes[1][1].set_title(\"Hbond Donors\")\n",
    "sns.histplot(data=information, x='HBD', ax=axes[1,1])\n",
    "\n",
    "axes[1][2].set_title(\"PSA\")\n",
    "sns.histplot(data=information, x='PSA', ax=axes[1,2], kde=True)\n",
    "\n",
    "axes[2][1].set_title(\"Heavy Atoms\")\n",
    "sns.histplot(data=information, x='n_atoms', ax=axes[2,1], kde=True)\n",
    "\n",
    "# We use tight_layout() to optimize the spacing between the subplots\n",
    "fig.tight_layout()\n",
    "\n",
    "# There are two extra subplots that we do not need, let's remove them\n",
    "fig.delaxes(axes[2][0])\n",
    "fig.delaxes(axes[2][2])"
   ]
  },
  {
   "cell_type": "markdown",
   "metadata": {},
   "source": [
    "**Question 1:** Using the plotted information, what can you say about the compounds in the dataset? Keep in mind the Lipinsky rule of five."
   ]
  },
  {
   "cell_type": "markdown",
   "metadata": {},
   "source": [
    "## Prepare ligands\n",
    "\n",
    "Next, we do not just have one ligand but a whole list of ligands. Since we only have the SMILES strings of the ligands, they need to be transformed to sdf files with a single conformation. In the following cells you find the already known functions."
   ]
  },
  {
   "cell_type": "code",
   "execution_count": 10,
   "metadata": {},
   "outputs": [],
   "source": [
    "def generate_conformation(smiles, sanitize=True):\n",
    "    \"\"\"\n",
    "    Convert a SMILES string to a conformation in 3D using a data-driven approach.\n",
    "\n",
    "    Parameters\n",
    "    ----------\n",
    "    smiles: str\n",
    "        SMILES string.\n",
    "    sanitize: bool\n",
    "        Sanitize the molecule by fixing small errors.\n",
    "        \n",
    "    Returns\n",
    "    -------\n",
    "    molecule: Chem.rdchem.Mol\n",
    "        The generated conformer of the molecule\n",
    "    \"\"\"\n",
    "    \n",
    "    # Create a RDKit molecule from SMILES\n",
    "    molecule = Chem.MolFromSmiles(smiles, sanitize=sanitize)   \n",
    "    molecule = Chem.AddHs(molecule)\n",
    "\n",
    "    # Initiate the ETKD parameters of the third version\n",
    "    params = AllChem.ETKDGv3()\n",
    "    params.useSmallRingTorsions = True\n",
    "\n",
    "    # Generate a single conformation with the given parameters   \n",
    "    AllChem.EmbedMultipleConfs(molecule, numConfs = 1 , params = params)\n",
    "    return molecule\n",
    "\n",
    "\n",
    "def save_sdf(m: Chem.rdchem.Mol, target_path):\n",
    "    \"\"\"\n",
    "    Saves mol as sdf file.\n",
    "    \n",
    "    Parameters\n",
    "    ----------\n",
    "    m: Chem.rdchem.Mol\n",
    "        Compound to save\n",
    "    target_path: str\n",
    "        Path to save the compound to\n",
    "    \"\"\"\n",
    "    sdf = Chem.SDWriter(target_path)\n",
    "    sdf.write(m)"
   ]
  },
  {
   "cell_type": "markdown",
   "metadata": {},
   "source": [
    "Before we start the conformer generation, we will define the output paths for the generated ligand conformers as well as the docked poses."
   ]
  },
  {
   "cell_type": "code",
   "execution_count": 11,
   "metadata": {},
   "outputs": [
    {
     "data": {
      "text/html": [
       "<div>\n",
       "<style scoped>\n",
       "    .dataframe tbody tr th:only-of-type {\n",
       "        vertical-align: middle;\n",
       "    }\n",
       "\n",
       "    .dataframe tbody tr th {\n",
       "        vertical-align: top;\n",
       "    }\n",
       "\n",
       "    .dataframe thead th {\n",
       "        text-align: right;\n",
       "    }\n",
       "</style>\n",
       "<table border=\"1\" class=\"dataframe\">\n",
       "  <thead>\n",
       "    <tr style=\"text-align: right;\">\n",
       "      <th></th>\n",
       "      <th>Name</th>\n",
       "      <th>Affinity[µM]</th>\n",
       "      <th>MW</th>\n",
       "      <th>logP</th>\n",
       "      <th>nrotb</th>\n",
       "      <th>HBA</th>\n",
       "      <th>HBD</th>\n",
       "      <th>PSA</th>\n",
       "      <th>n_atoms</th>\n",
       "      <th>Smiles</th>\n",
       "      <th>input_sdf</th>\n",
       "      <th>docked_sdf</th>\n",
       "    </tr>\n",
       "  </thead>\n",
       "  <tbody>\n",
       "    <tr>\n",
       "      <th>0</th>\n",
       "      <td>9905296</td>\n",
       "      <td>0.001600</td>\n",
       "      <td>324.298</td>\n",
       "      <td>3.2207</td>\n",
       "      <td>3</td>\n",
       "      <td>3</td>\n",
       "      <td>1</td>\n",
       "      <td>45.33</td>\n",
       "      <td>23</td>\n",
       "      <td>O=c1cc(c2c([nH]1)cc1c(c2)N(CCO1)CC1CC1)C(F)(F)F</td>\n",
       "      <td>output/ligands/9905296.sdf</td>\n",
       "      <td>output/docked/9905296.sdf</td>\n",
       "    </tr>\n",
       "    <tr>\n",
       "      <th>1</th>\n",
       "      <td>D05</td>\n",
       "      <td>15.708427</td>\n",
       "      <td>284.393</td>\n",
       "      <td>5.0882</td>\n",
       "      <td>6</td>\n",
       "      <td>2</td>\n",
       "      <td>1</td>\n",
       "      <td>29.46</td>\n",
       "      <td>21</td>\n",
       "      <td>CC[C@@H]([C@H](c1ccc(cc1)O)CC)c1ccc(cc1)OC</td>\n",
       "      <td>output/ligands/D05.sdf</td>\n",
       "      <td>output/docked/D05.sdf</td>\n",
       "    </tr>\n",
       "    <tr>\n",
       "      <th>2</th>\n",
       "      <td>H09</td>\n",
       "      <td>22.019916</td>\n",
       "      <td>354.486</td>\n",
       "      <td>6.4955</td>\n",
       "      <td>3</td>\n",
       "      <td>0</td>\n",
       "      <td>0</td>\n",
       "      <td>0.00</td>\n",
       "      <td>19</td>\n",
       "      <td>ClC(C(c1ccc(cc1)Cl)c1ccc(cc1)Cl)(Cl)Cl</td>\n",
       "      <td>output/ligands/H09.sdf</td>\n",
       "      <td>output/docked/H09.sdf</td>\n",
       "    </tr>\n",
       "    <tr>\n",
       "      <th>3</th>\n",
       "      <td>23648052</td>\n",
       "      <td>0.243000</td>\n",
       "      <td>394.355</td>\n",
       "      <td>5.3518</td>\n",
       "      <td>7</td>\n",
       "      <td>2</td>\n",
       "      <td>1</td>\n",
       "      <td>36.10</td>\n",
       "      <td>27</td>\n",
       "      <td>O=c1[nH]c2ccc(cc2c(c1)C(F)(F)F)N(CC(F)(F)F)CCC...</td>\n",
       "      <td>output/ligands/23648052.sdf</td>\n",
       "      <td>output/docked/23648052.sdf</td>\n",
       "    </tr>\n",
       "    <tr>\n",
       "      <th>4</th>\n",
       "      <td>52944606</td>\n",
       "      <td>1.100000</td>\n",
       "      <td>456.614</td>\n",
       "      <td>5.1355</td>\n",
       "      <td>12</td>\n",
       "      <td>5</td>\n",
       "      <td>2</td>\n",
       "      <td>75.99</td>\n",
       "      <td>33</td>\n",
       "      <td>OC[C@H](COc1ccc(cc1C)C(c1ccc(c(c1)C)OCC(=O)C(C...</td>\n",
       "      <td>output/ligands/52944606.sdf</td>\n",
       "      <td>output/docked/52944606.sdf</td>\n",
       "    </tr>\n",
       "  </tbody>\n",
       "</table>\n",
       "</div>"
      ],
      "text/plain": [
       "       Name  Affinity[µM]       MW    logP  nrotb  HBA  HBD    PSA  n_atoms  \\\n",
       "0   9905296      0.001600  324.298  3.2207      3    3    1  45.33       23   \n",
       "1       D05     15.708427  284.393  5.0882      6    2    1  29.46       21   \n",
       "2       H09     22.019916  354.486  6.4955      3    0    0   0.00       19   \n",
       "3  23648052      0.243000  394.355  5.3518      7    2    1  36.10       27   \n",
       "4  52944606      1.100000  456.614  5.1355     12    5    2  75.99       33   \n",
       "\n",
       "                                              Smiles  \\\n",
       "0    O=c1cc(c2c([nH]1)cc1c(c2)N(CCO1)CC1CC1)C(F)(F)F   \n",
       "1         CC[C@@H]([C@H](c1ccc(cc1)O)CC)c1ccc(cc1)OC   \n",
       "2             ClC(C(c1ccc(cc1)Cl)c1ccc(cc1)Cl)(Cl)Cl   \n",
       "3  O=c1[nH]c2ccc(cc2c(c1)C(F)(F)F)N(CC(F)(F)F)CCC...   \n",
       "4  OC[C@H](COc1ccc(cc1C)C(c1ccc(c(c1)C)OCC(=O)C(C...   \n",
       "\n",
       "                     input_sdf                  docked_sdf  \n",
       "0   output/ligands/9905296.sdf   output/docked/9905296.sdf  \n",
       "1       output/ligands/D05.sdf       output/docked/D05.sdf  \n",
       "2       output/ligands/H09.sdf       output/docked/H09.sdf  \n",
       "3  output/ligands/23648052.sdf  output/docked/23648052.sdf  \n",
       "4  output/ligands/52944606.sdf  output/docked/52944606.sdf  "
      ]
     },
     "execution_count": 11,
     "metadata": {},
     "output_type": "execute_result"
    }
   ],
   "source": [
    "# Create all required folders\n",
    "Path(path.join('output', 'ligands')).mkdir(parents=True, exist_ok=True)\n",
    "Path(path.join('output', 'docked')).mkdir(parents=True, exist_ok=True)\n",
    "\n",
    "# Save all the ligand paths in the pandas data frame, so we can keep track of our data\n",
    "information[\"input_sdf\"] = \"output/ligands/\" + information['Name'] + \".sdf\"\n",
    "information[\"docked_sdf\"] = \"output/docked/\" + information['Name'] + \".sdf\"\n",
    "\n",
    "# Print the first few rows of the dataframe to check the output\n",
    "information.head()"
   ]
  },
  {
   "cell_type": "markdown",
   "metadata": {},
   "source": [
    "Now, let's generate a 3D conformer for each ligand."
   ]
  },
  {
   "cell_type": "code",
   "execution_count": 13,
   "metadata": {},
   "outputs": [
    {
     "data": {
      "application/vnd.jupyter.widget-view+json": {
       "model_id": "640ef28c402b426b9c1ae370e10d962e",
       "version_major": 2,
       "version_minor": 0
      },
      "text/plain": [
       "  0%|          | 0/210 [00:00<?, ?it/s]"
      ]
     },
     "metadata": {},
     "output_type": "display_data"
    }
   ],
   "source": [
    "# Iterate through all molecules and generate conformation from SMILES code\n",
    "for i, smi in tqdm(enumerate(information['Smiles']), total=len(information)):\n",
    "    ligand_conformation = generate_conformation(smi)\n",
    "    save_sdf(ligand_conformation, path.join('output','ligands', f'{information.iloc[i].Name}.sdf'))"
   ]
  },
  {
   "cell_type": "markdown",
   "metadata": {},
   "source": [
    "### Binding site definition\n",
    "\n",
    "In theory, it would be possible to perform a docking calculation considering the whole protein as binding site. However, due to the known limitations of docking algorithms, it is always recommended to restrict the binding site to a certain region of interest to increase performance and accuracy. Here, we can use the coordinates of the co-crystallized ligand to define the binding site with a rectangular box. \n"
   ]
  },
  {
   "cell_type": "code",
   "execution_count": 12,
   "metadata": {},
   "outputs": [],
   "source": [
    "# The center of mass and box size has already been determined for you\n",
    "pocket_center = [27.51935294, 1.65041176, 4.35223529]\n",
    "pocket_size = [13.265, 15.134, 12.295]"
   ]
  },
  {
   "cell_type": "markdown",
   "metadata": {},
   "source": [
    "## Docking calculation"
   ]
  },
  {
   "cell_type": "markdown",
   "metadata": {},
   "source": [
    "Finally, we can proceed to the actual docking calculation. Smina is a command line tool, which currently does not provide a Python API. \n",
    "\n",
    "* However, we can write a function that will take care of generating the proper command and execute the calculation. \n",
    "* Besides providing the ligand, protein and pocket information, we can also alter the behavior of the docking calculation by setting the number of docking poses to be generated and by changing the exhaustiveness, which controls the number of independent docking calculations.\n",
    "\n",
    "**Note:** Depending on the CPU speed and the docking settings this step may take a few minutes."
   ]
  },
  {
   "cell_type": "code",
   "execution_count": 13,
   "metadata": {},
   "outputs": [],
   "source": [
    "def run_smina(ligand, protein, output, pocket_center, pocket_size, num_poses=10, exhaustiveness=8):\n",
    "    \"\"\"\n",
    "    Perform docking with Smina.\n",
    "\n",
    "    Parameters\n",
    "    ----------\n",
    "    ligand: str or pathlib.Path\n",
    "        Path to ligand file that should be docked. Formats: mol2, sdf, pdbqt, pdb\n",
    "    protein: str or pathlib.Path\n",
    "        Path to protein file that should be docked to. Formats: pdb, pdbqt\n",
    "    output: str or pathlib.Path\n",
    "        Path to which docking poses should be saved. Formats: sdf, mol2, pdb\n",
    "    pocket_center: iterable of float or int\n",
    "        Coordinates defining the center of the binding site.\n",
    "    pocket_size: iterable of float or int\n",
    "        Lengths of edges defining the binding site.\n",
    "    num_poses: int\n",
    "        Maximum number of poses to generate.\n",
    "    exhaustiveness: int\n",
    "        Accuracy of docking calculations.\n",
    "        \n",
    "        \n",
    "    Here,  f\"command {line} {arguments}\".split() could also be used.\n",
    "    Also, instead of pocket_center and pocket_size, the autobox\n",
    "    function could be used.\n",
    "\n",
    "    Returns\n",
    "    -------\n",
    "    output_text: str\n",
    "        The output of the Smina calculation.\n",
    "    \"\"\"\n",
    "    \n",
    "    output_text = subprocess.check_output(\n",
    "        [\n",
    "            \"smina\",\n",
    "            \"--ligand\",   ligand,\n",
    "            \"--receptor\", protein,\n",
    "            \"--out\",      output,\n",
    "            \"--center_x\", str(pocket_center[0]),\n",
    "            \"--center_y\", str(pocket_center[1]),\n",
    "            \"--center_z\", str(pocket_center[2]),\n",
    "            \"--size_x\",   str(pocket_size[0]),\n",
    "            \"--size_y\",   str(pocket_size[1]),\n",
    "            \"--size_z\",   str(pocket_size[2]),\n",
    "            \"--num_modes\", str(num_poses),\n",
    "            \"--exhaustiveness\", str(exhaustiveness),\n",
    "        ],\n",
    "        universal_newlines=True,  # needed to capture output text\n",
    "    )\n",
    "    return output_text"
   ]
  },
  {
   "cell_type": "code",
   "execution_count": 14,
   "metadata": {},
   "outputs": [
    {
     "data": {
      "application/vnd.jupyter.widget-view+json": {
       "model_id": "3fb0c57f579e4e56860e28dedc8b0adc",
       "version_major": 2,
       "version_minor": 0
      },
      "text/plain": [
       "  0%|          | 0/210 [00:00<?, ?it/s]"
      ]
     },
     "metadata": {},
     "output_type": "display_data"
    }
   ],
   "source": [
    "protein_path = path.join('input', \"2AMB_receptor.pdb\")\n",
    "\n",
    "for i, molecule in tqdm(information.iterrows(), total=len(information)):\n",
    "    run_smina(ligand=molecule['input_sdf'],\n",
    "              protein=protein_path,\n",
    "              output=molecule['docked_sdf'],\n",
    "              pocket_center=pocket_center,\n",
    "              pocket_size=pocket_size,\n",
    "              )"
   ]
  },
  {
   "cell_type": "markdown",
   "metadata": {},
   "source": [
    "The output is a file containing the docking poses and a text based description of the docking results including an estimated affinity and the root mean square deviation (RMSD) of each pose from the pose with the highest predicted affinity ([Vina output description](http://vina.scripps.edu/manual.html#output))."
   ]
  },
  {
   "cell_type": "markdown",
   "metadata": {},
   "source": [
    "## Docking results visualization\n",
    "\n",
    "Now, let us analyze the docking results. Do the calculated docking scores agree with the experimentally determined binding affinities?"
   ]
  },
  {
   "cell_type": "markdown",
   "metadata": {},
   "source": [
    "### Docking score statistics"
   ]
  },
  {
   "cell_type": "markdown",
   "metadata": {},
   "source": [
    "To complete our dataframe, we will add the calculated docking scores for all ligands in the dataset. We can then use the generated data to analyze the results of the virtual screening."
   ]
  },
  {
   "cell_type": "code",
   "execution_count": 17,
   "metadata": {},
   "outputs": [],
   "source": [
    "def extract_docking_score(docked_molecule, pose_id=0):\n",
    "    \"\"\"\n",
    "    Extract the docking score from an SDF file. The docking score\n",
    "    is given under the \"minimizedAffinity\" property.\n",
    "\n",
    "    Parameters\n",
    "    ----------\n",
    "    docked_molecule: str\n",
    "        SDF file containing docking output.\n",
    "    pose_id: int\n",
    "        ID of pose to get the affinity of\n",
    "        \n",
    "    Returns\n",
    "    -------\n",
    "    score: float\n",
    "        The calculated docking score\n",
    "    \"\"\"\n",
    "    results=Chem.SDMolSupplier(docked_molecule, sanitize=False)\n",
    "    score = float(results[pose_id].GetProp('minimizedAffinity'))\n",
    "    return score"
   ]
  },
  {
   "cell_type": "code",
   "execution_count": 18,
   "metadata": {},
   "outputs": [
    {
     "data": {
      "text/html": [
       "<div>\n",
       "<style scoped>\n",
       "    .dataframe tbody tr th:only-of-type {\n",
       "        vertical-align: middle;\n",
       "    }\n",
       "\n",
       "    .dataframe tbody tr th {\n",
       "        vertical-align: top;\n",
       "    }\n",
       "\n",
       "    .dataframe thead th {\n",
       "        text-align: right;\n",
       "    }\n",
       "</style>\n",
       "<table border=\"1\" class=\"dataframe\">\n",
       "  <thead>\n",
       "    <tr style=\"text-align: right;\">\n",
       "      <th></th>\n",
       "      <th>Name</th>\n",
       "      <th>Affinity[µM]</th>\n",
       "      <th>MW</th>\n",
       "      <th>logP</th>\n",
       "      <th>nrotb</th>\n",
       "      <th>HBA</th>\n",
       "      <th>HBD</th>\n",
       "      <th>PSA</th>\n",
       "      <th>n_atoms</th>\n",
       "      <th>Smiles</th>\n",
       "      <th>input_sdf</th>\n",
       "      <th>docked_sdf</th>\n",
       "      <th>score</th>\n",
       "    </tr>\n",
       "  </thead>\n",
       "  <tbody>\n",
       "    <tr>\n",
       "      <th>77</th>\n",
       "      <td>25017513</td>\n",
       "      <td>0.005000</td>\n",
       "      <td>309.316</td>\n",
       "      <td>3.1101</td>\n",
       "      <td>1</td>\n",
       "      <td>4</td>\n",
       "      <td>2</td>\n",
       "      <td>71.55</td>\n",
       "      <td>23</td>\n",
       "      <td>COc1c(O)ccc2c1-c1ccc3c(c1CO2)c(C)cc(=O)[nH]3</td>\n",
       "      <td>output/ligands/25017513.sdf</td>\n",
       "      <td>output/docked/25017513.sdf</td>\n",
       "      <td>-11.57803</td>\n",
       "    </tr>\n",
       "    <tr>\n",
       "      <th>58</th>\n",
       "      <td>261000</td>\n",
       "      <td>0.000740</td>\n",
       "      <td>284.393</td>\n",
       "      <td>3.7194</td>\n",
       "      <td>0</td>\n",
       "      <td>2</td>\n",
       "      <td>1</td>\n",
       "      <td>37.30</td>\n",
       "      <td>21</td>\n",
       "      <td>O=C1CCC2=C3C=C[C@]4([C@H]([C@@H]3CCC2=C1)CC[C@...</td>\n",
       "      <td>output/ligands/261000.sdf</td>\n",
       "      <td>output/docked/261000.sdf</td>\n",
       "      <td>-11.38238</td>\n",
       "    </tr>\n",
       "    <tr>\n",
       "      <th>188</th>\n",
       "      <td>B06</td>\n",
       "      <td>492.378406</td>\n",
       "      <td>288.381</td>\n",
       "      <td>2.5800</td>\n",
       "      <td>0</td>\n",
       "      <td>3</td>\n",
       "      <td>3</td>\n",
       "      <td>60.69</td>\n",
       "      <td>21</td>\n",
       "      <td>Oc1ccc2c(c1)CC[C@@H]1[C@@H]2CC[C@]2([C@H]1C[C@...</td>\n",
       "      <td>output/ligands/B06.sdf</td>\n",
       "      <td>output/docked/B06.sdf</td>\n",
       "      <td>-11.37356</td>\n",
       "    </tr>\n",
       "    <tr>\n",
       "      <th>193</th>\n",
       "      <td>C02</td>\n",
       "      <td>0.156811</td>\n",
       "      <td>298.419</td>\n",
       "      <td>3.4925</td>\n",
       "      <td>0</td>\n",
       "      <td>2</td>\n",
       "      <td>1</td>\n",
       "      <td>37.30</td>\n",
       "      <td>22</td>\n",
       "      <td>C#C[C@]1(O)CC[C@@H]2[C@]1(C)CC[C@H]1[C@H]2CCC2...</td>\n",
       "      <td>output/ligands/C02.sdf</td>\n",
       "      <td>output/docked/C02.sdf</td>\n",
       "      <td>-11.37338</td>\n",
       "    </tr>\n",
       "    <tr>\n",
       "      <th>143</th>\n",
       "      <td>25017244</td>\n",
       "      <td>0.026000</td>\n",
       "      <td>293.317</td>\n",
       "      <td>2.8882</td>\n",
       "      <td>1</td>\n",
       "      <td>3</td>\n",
       "      <td>2</td>\n",
       "      <td>62.32</td>\n",
       "      <td>22</td>\n",
       "      <td>OCc1cccc2c1-c1ccc3c(c1CO2)c(C)cc(=O)[nH]3</td>\n",
       "      <td>output/ligands/25017244.sdf</td>\n",
       "      <td>output/docked/25017244.sdf</td>\n",
       "      <td>-11.21234</td>\n",
       "    </tr>\n",
       "  </tbody>\n",
       "</table>\n",
       "</div>"
      ],
      "text/plain": [
       "         Name  Affinity[µM]       MW    logP  nrotb  HBA  HBD    PSA  n_atoms  \\\n",
       "77   25017513      0.005000  309.316  3.1101      1    4    2  71.55       23   \n",
       "58     261000      0.000740  284.393  3.7194      0    2    1  37.30       21   \n",
       "188       B06    492.378406  288.381  2.5800      0    3    3  60.69       21   \n",
       "193       C02      0.156811  298.419  3.4925      0    2    1  37.30       22   \n",
       "143  25017244      0.026000  293.317  2.8882      1    3    2  62.32       22   \n",
       "\n",
       "                                                Smiles  \\\n",
       "77        COc1c(O)ccc2c1-c1ccc3c(c1CO2)c(C)cc(=O)[nH]3   \n",
       "58   O=C1CCC2=C3C=C[C@]4([C@H]([C@@H]3CCC2=C1)CC[C@...   \n",
       "188  Oc1ccc2c(c1)CC[C@@H]1[C@@H]2CC[C@]2([C@H]1C[C@...   \n",
       "193  C#C[C@]1(O)CC[C@@H]2[C@]1(C)CC[C@H]1[C@H]2CCC2...   \n",
       "143          OCc1cccc2c1-c1ccc3c(c1CO2)c(C)cc(=O)[nH]3   \n",
       "\n",
       "                       input_sdf                  docked_sdf     score  \n",
       "77   output/ligands/25017513.sdf  output/docked/25017513.sdf -11.57803  \n",
       "58     output/ligands/261000.sdf    output/docked/261000.sdf -11.38238  \n",
       "188       output/ligands/B06.sdf       output/docked/B06.sdf -11.37356  \n",
       "193       output/ligands/C02.sdf       output/docked/C02.sdf -11.37338  \n",
       "143  output/ligands/25017244.sdf  output/docked/25017244.sdf -11.21234  "
      ]
     },
     "execution_count": 18,
     "metadata": {},
     "output_type": "execute_result"
    }
   ],
   "source": [
    "# Add the docking scores to the dataframe\n",
    "# NOTE: The apply function takes the sdf path and hands it to the extract_docking_score function\n",
    "# which returns the docking score and saves it in the dataframe.\n",
    "information['score'] = information['docked_sdf'].apply(extract_docking_score)\n",
    "\n",
    "# Before saving the final dataframe, let's sort the rows according to the docking score\n",
    "information.sort_values('score', inplace=True)\n",
    "\n",
    "# Write the dataframe to a csv file\n",
    "information.to_csv('output/stats.csv')\n",
    "\n",
    "# Print the first five elements of the final dataframe\n",
    "information.head()"
   ]
  },
  {
   "cell_type": "markdown",
   "metadata": {},
   "source": [
    "Now, we would like to get an estimate of the distribution of the docking scores. We will define an affinity threshold which should separate active compounds from inactive compounds."
   ]
  },
  {
   "cell_type": "code",
   "execution_count": 19,
   "metadata": {},
   "outputs": [
    {
     "data": {
      "text/plain": [
       "<matplotlib.legend.Legend at 0x7fb34e9f2310>"
      ]
     },
     "execution_count": 19,
     "metadata": {},
     "output_type": "execute_result"
    },
    {
     "data": {
      "image/png": "[encoded data removed]",
      "text/plain": [
       "<Figure size 720x360 with 2 Axes>"
      ]
     },
     "metadata": {
      "needs_background": "light"
     },
     "output_type": "display_data"
    }
   ],
   "source": [
    "# Define affinity threshold (in µM)\n",
    "affinity_threshold = 1.\n",
    "\n",
    "# Define \"active\" and \"inactive\" compounds\n",
    "actives = information[information['Affinity[µM]'] < affinity_threshold]\n",
    "inactives = information[information['Affinity[µM]'] > affinity_threshold]\n",
    "\n",
    "# Plot the densities of the scores\n",
    "fig, axes = plt.subplots(1, 2, figsize=(10, 5))\n",
    "axes[1].set(xscale=\"log\")\n",
    "sns.kdeplot(data=actives, x=\"score\", label=\"Active\", ax=axes[0])\n",
    "sns.kdeplot(data=inactives, x=\"score\", label=\"Inactive\", ax=axes[0])\n",
    "sns.kdeplot(data=information, x=\"Affinity[µM]\", label=\"Affinities\", ax=axes[1])\n",
    "fig.tight_layout()\n",
    "\n",
    "# Add a legend to the plot\n",
    "plt.legend()"
   ]
  },
  {
   "cell_type": "markdown",
   "metadata": {},
   "source": [
    "### ROC curve"
   ]
  },
  {
   "cell_type": "code",
   "execution_count": 20,
   "metadata": {
    "scrolled": true
   },
   "outputs": [
    {
     "data": {
      "image/png": "[encoded data removed]",
      "text/plain": [
       "<Figure size 432x288 with 1 Axes>"
      ]
     },
     "metadata": {
      "needs_background": "light"
     },
     "output_type": "display_data"
    }
   ],
   "source": [
    "# Calculate TPR and FPR\n",
    "(fpr, tpr, thresholds) = roc_curve(information['Affinity[µM]'] > affinity_threshold, information.score)\n",
    "\n",
    "# Calculate the area under the curve\n",
    "auroc = auc(fpr, tpr)\n",
    "\n",
    "# Plot the ROC curve\n",
    "sns.lineplot(x=fpr, y=tpr, label=f'Virtual Screening (AUC = {auroc:.2f})')\n",
    "\n",
    "# Show random classifier\n",
    "sns.lineplot(x=[0, 1], y=[0, 1], color=\"navy\", linestyle=\"--\", label='Random')\n",
    "\n",
    "# Define limits of the plot\n",
    "plt.xlim([0.0, 1.0])\n",
    "plt.ylim([0.0, 1.05])\n",
    "\n",
    "# Add axis labels, title, and legend\n",
    "plt.xlabel(\"False Positive Rate\")\n",
    "plt.ylabel(\"True Positive Rate\")\n",
    "plt.title(\"Receiver operating characteristic\")\n",
    "plt.legend(loc=\"lower right\")\n",
    "plt.show()"
   ]
  },
  {
   "cell_type": "markdown",
   "metadata": {},
   "source": [
    "**Question 2:** Try adapting the affinity threshold. How does this affect the results and what does it mean?"
   ]
  },
  {
   "cell_type": "markdown",
   "metadata": {},
   "source": [
    "Ideally, the calculated docking scores correlate with the measured affinity. Let's see if this is the case. We will analyze the results using an interactive plot."
   ]
  },
  {
   "cell_type": "code",
   "execution_count": 21,
   "metadata": {},
   "outputs": [
    {
     "data": {
      "text/html": [
       "\n",
       "        <iframe\n",
       "            width=\"100%\"\n",
       "            height=\"500\"\n",
       "            src=\"http://127.0.0.1:8700/\"\n",
       "            frameborder=\"0\"\n",
       "            allowfullscreen\n",
       "            \n",
       "        ></iframe>\n",
       "        "
      ],
      "text/plain": [
       "<IPython.lib.display.IFrame at 0x7fb37233b250>"
      ]
     },
     "metadata": {},
     "output_type": "display_data"
    }
   ],
   "source": [
    "# Add information about (in)activity to the dataframe\n",
    "affinity_threshold = 1.\n",
    "information[\"inactive\"] = (information['Affinity[µM]'] > affinity_threshold).astype(\"int\")\n",
    "\n",
    "# Create a figure using plotly\n",
    "fig = px.scatter(\n",
    "    information, \n",
    "    x=\"Affinity[µM]\", \n",
    "    y=\"score\", \n",
    "    color=\"inactive\", \n",
    "    trendline=\"ols\", \n",
    "    log_x=True, \n",
    "    trendline_options=dict(log_x=True)\n",
    ")\n",
    "\n",
    "# The created plot consists of two parts (scattered points and trendline).\n",
    "# This causes problems when molplotly tries to add the molecules to the plot.\n",
    "# To get it to work, we need to add an additional column to the dataframe. The\n",
    "# name of the column does not matter, here we call it \"plot\" and set its value\n",
    "# to \"yes\".\n",
    "information[\"plot\"] = \"yes\"\n",
    "\n",
    "# Next, we need to add the specified value (\"yes\") to the \"name\" attribute of the \n",
    "# two components of the plot. This is required for molplotly to work properly.\n",
    "setattr(fig.data[0], \"name\", \"yes\")\n",
    "setattr(fig.data[1], \"name\", \"yes\")\n",
    "\n",
    "# Use molplotly to draw an interactive plot\n",
    "app = molplotly.add_molecules(\n",
    "    fig=fig,\n",
    "    df=information,\n",
    "    smiles_col=\"Smiles\",\n",
    "    title_col=\"Name\",\n",
    "    caption_cols=[\"MW\", \"logP\"],\n",
    "    color_col=\"plot\",  # This is the arbitrary name of the column we just added to the dataframe\n",
    ")\n",
    "\n",
    "# Let's draw the interactive plot\n",
    "app.run_server(mode='inline', port=8700, height=500)"
   ]
  },
  {
   "cell_type": "markdown",
   "metadata": {},
   "source": [
    "We can also get a summary of the trendline statistics."
   ]
  },
  {
   "cell_type": "code",
   "execution_count": 22,
   "metadata": {},
   "outputs": [
    {
     "data": {
      "text/html": [
       "<table class=\"simpletable\">\n",
       "<caption>OLS Regression Results</caption>\n",
       "<tr>\n",
       "  <th>Dep. Variable:</th>            <td>y</td>        <th>  R-squared:         </th> <td>   0.002</td>\n",
       "</tr>\n",
       "<tr>\n",
       "  <th>Model:</th>                   <td>OLS</td>       <th>  Adj. R-squared:    </th> <td>  -0.003</td>\n",
       "</tr>\n",
       "<tr>\n",
       "  <th>Method:</th>             <td>Least Squares</td>  <th>  F-statistic:       </th> <td>  0.4665</td>\n",
       "</tr>\n",
       "<tr>\n",
       "  <th>Date:</th>             <td>Thu, 11 Aug 2022</td> <th>  Prob (F-statistic):</th>  <td> 0.495</td> \n",
       "</tr>\n",
       "<tr>\n",
       "  <th>Time:</th>                 <td>14:53:34</td>     <th>  Log-Likelihood:    </th> <td> -678.07</td>\n",
       "</tr>\n",
       "<tr>\n",
       "  <th>No. Observations:</th>      <td>   210</td>      <th>  AIC:               </th> <td>   1360.</td>\n",
       "</tr>\n",
       "<tr>\n",
       "  <th>Df Residuals:</th>          <td>   208</td>      <th>  BIC:               </th> <td>   1367.</td>\n",
       "</tr>\n",
       "<tr>\n",
       "  <th>Df Model:</th>              <td>     1</td>      <th>                     </th>     <td> </td>   \n",
       "</tr>\n",
       "<tr>\n",
       "  <th>Covariance Type:</th>      <td>nonrobust</td>    <th>                     </th>     <td> </td>   \n",
       "</tr>\n",
       "</table>\n",
       "<table class=\"simpletable\">\n",
       "<tr>\n",
       "    <td></td>       <th>coef</th>     <th>std err</th>      <th>t</th>      <th>P>|t|</th>  <th>[0.025</th>    <th>0.975]</th>  \n",
       "</tr>\n",
       "<tr>\n",
       "  <th>const</th> <td>   -5.6004</td> <td>    0.508</td> <td>  -11.020</td> <td> 0.000</td> <td>   -6.602</td> <td>   -4.599</td>\n",
       "</tr>\n",
       "<tr>\n",
       "  <th>x1</th>    <td>    0.2216</td> <td>    0.324</td> <td>    0.683</td> <td> 0.495</td> <td>   -0.418</td> <td>    0.861</td>\n",
       "</tr>\n",
       "</table>\n",
       "<table class=\"simpletable\">\n",
       "<tr>\n",
       "  <th>Omnibus:</th>       <td>97.850</td> <th>  Durbin-Watson:     </th> <td>   1.841</td>\n",
       "</tr>\n",
       "<tr>\n",
       "  <th>Prob(Omnibus):</th> <td> 0.000</td> <th>  Jarque-Bera (JB):  </th> <td> 289.245</td>\n",
       "</tr>\n",
       "<tr>\n",
       "  <th>Skew:</th>          <td> 2.082</td> <th>  Prob(JB):          </th> <td>1.55e-63</td>\n",
       "</tr>\n",
       "<tr>\n",
       "  <th>Kurtosis:</th>      <td> 6.964</td> <th>  Cond. No.          </th> <td>    2.19</td>\n",
       "</tr>\n",
       "</table><br/><br/>Notes:<br/>[1] Standard Errors assume that the covariance matrix of the errors is correctly specified."
      ],
      "text/plain": [
       "<class 'statsmodels.iolib.summary.Summary'>\n",
       "\"\"\"\n",
       "                            OLS Regression Results                            \n",
       "==============================================================================\n",
       "Dep. Variable:                      y   R-squared:                       0.002\n",
       "Model:                            OLS   Adj. R-squared:                 -0.003\n",
       "Method:                 Least Squares   F-statistic:                    0.4665\n",
       "Date:                Thu, 11 Aug 2022   Prob (F-statistic):              0.495\n",
       "Time:                        14:53:34   Log-Likelihood:                -678.07\n",
       "No. Observations:                 210   AIC:                             1360.\n",
       "Df Residuals:                     208   BIC:                             1367.\n",
       "Df Model:                           1                                         \n",
       "Covariance Type:            nonrobust                                         \n",
       "==============================================================================\n",
       "                 coef    std err          t      P>|t|      [0.025      0.975]\n",
       "------------------------------------------------------------------------------\n",
       "const         -5.6004      0.508    -11.020      0.000      -6.602      -4.599\n",
       "x1             0.2216      0.324      0.683      0.495      -0.418       0.861\n",
       "==============================================================================\n",
       "Omnibus:                       97.850   Durbin-Watson:                   1.841\n",
       "Prob(Omnibus):                  0.000   Jarque-Bera (JB):              289.245\n",
       "Skew:                           2.082   Prob(JB):                     1.55e-63\n",
       "Kurtosis:                       6.964   Cond. No.                         2.19\n",
       "==============================================================================\n",
       "\n",
       "Notes:\n",
       "[1] Standard Errors assume that the covariance matrix of the errors is correctly specified.\n",
       "\"\"\""
      ]
     },
     "execution_count": 22,
     "metadata": {},
     "output_type": "execute_result"
    }
   ],
   "source": [
    "# Print the statistics of the trendline\n",
    "results = px.get_trendline_results(fig)\n",
    "results.px_fit_results.iloc[0].summary()"
   ]
  },
  {
   "cell_type": "markdown",
   "metadata": {},
   "source": [
    "**Question 3:** Investigate the outliers in the plot. Can you find an explanation why the calculated scores do not correlate with the measured affinity? Consider the 2D structures as well as the generated binding poses."
   ]
  },
  {
   "cell_type": "markdown",
   "metadata": {},
   "source": [
    "It looks like the correlation between the docking scores and the measured affinity is quite bad. Let's investigate more. To start, let us plot the docking score against the molecular weight."
   ]
  },
  {
   "cell_type": "code",
   "execution_count": 23,
   "metadata": {},
   "outputs": [
    {
     "data": {
      "text/html": [
       "\n",
       "        <iframe\n",
       "            width=\"100%\"\n",
       "            height=\"500\"\n",
       "            src=\"http://127.0.0.1:8700/\"\n",
       "            frameborder=\"0\"\n",
       "            allowfullscreen\n",
       "            \n",
       "        ></iframe>\n",
       "        "
      ],
      "text/plain": [
       "<IPython.lib.display.IFrame at 0x7fb37227fe80>"
      ]
     },
     "metadata": {},
     "output_type": "display_data"
    }
   ],
   "source": [
    "# Create a figure using plotly\n",
    "fig = px.scatter(information, \n",
    "                 x=\"MW\", \n",
    "                 y=\"score\", \n",
    "                 color=\"inactive\", \n",
    "                 trendline=\"ols\",\n",
    "                 )\n",
    "\n",
    "# The created plot consists of two parts (scattered points and trendline).\n",
    "# This causes problems when molplotly tries to add the molecules to the plot.\n",
    "# To get it to work, we need to add an additional column to the dataframe. The\n",
    "# name of the column does not matter, here we call it \"plot\" and set its value\n",
    "# to \"yes\".\n",
    "information[\"plot\"] = \"yes\"\n",
    "\n",
    "# Next, we need to add the specified value (\"yes\") to the \"name\" attribute of the \n",
    "# two components of the plot. This is required for molplotly to work properly.\n",
    "setattr(fig.data[0], \"name\", \"yes\")\n",
    "setattr(fig.data[1], \"name\", \"yes\")\n",
    "\n",
    "# Use molplotly to draw an interactive plot\n",
    "app = molplotly.add_molecules(\n",
    "    fig=fig,\n",
    "    df=information,\n",
    "    smiles_col=\"Smiles\",\n",
    "    title_col=\"Name\",\n",
    "    caption_cols=[\"Affinity[µM]\"],\n",
    "    color_col=\"plot\",  # This is the arbitrary name of the column we just added to the dataframe\n",
    ")\n",
    "\n",
    "# Let's draw the interactive plot\n",
    "app.run_server(mode='inline', port=8700, height=500)"
   ]
  },
  {
   "cell_type": "markdown",
   "metadata": {},
   "source": [
    "It can be seen that the docking score increases (gets worse) with increasing molecular weight.\n",
    "\n",
    "**Question 4:** What could be the reasons for this observation? Discuss possible reasons for the poor correlation between docking scores and measured affinities. Can you come up with ideas how to improve the results?"
   ]
  }
 ],
 "metadata": {
  "kernelspec": {
   "display_name": "Python 3 (ipykernel)",
   "language": "python",
   "name": "python3"
  },
  "language_info": {
   "codemirror_mode": {
    "name": "ipython",
    "version": 3
   },
   "file_extension": ".py",
   "mimetype": "text/x-python",
   "name": "python",
   "nbconvert_exporter": "python",
   "pygments_lexer": "ipython3",
   "version": "3.11.6"
  },
  "toc-autonumbering": true,
  "widgets": {
   "application/vnd.jupyter.widget-state+json": {
    "state": {
     "0004244043d44e368fa0bdc4167c75bf": {
      "model_module": "@jupyter-widgets/controls",
      "model_module_version": "1.5.0",
      "model_name": "DescriptionStyleModel",
      "state": {
       "description_width": ""
      }
     },
     "1180a945c98b42d784d6713775ccde3c": {
      "buffers": [
       {
        "data": "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",
        "encoding": "base64",
        "path": [
         "value"
        ]
       }
      ],
      "model_module": "@jupyter-widgets/controls",
      "model_module_version": "1.5.0",
      "model_name": "ImageModel",
      "state": {
       "layout": "IPY_MODEL_f5e1668329aa44c3b05130eddf93ec4f",
       "value": {},
       "width": "99%"
      }
     },
     "19e68c1820e449bbb10e70180de28e10": {
      "model_module": "@jupyter-widgets/base",
      "model_module_version": "1.2.0",
      "model_name": "LayoutModel",
      "state": {}
     },
     "1bfc6ea7cd034134b792d177b128b32f": {
      "model_module": "@jupyter-widgets/controls",
      "model_module_version": "1.5.0",
      "model_name": "LinkModel",
      "state": {
       "source": [
        "IPY_MODEL_d72cceebca994d11b630eb98889f33dc",
        "value"
       ],
       "target": [
        "IPY_MODEL_dd43e20f50d649058bf3505ff34d1f90",
        "value"
       ]
      }
     },
     "44f252b8a44d4780b1407a8043699179": {
      "model_module": "@jupyter-widgets/base",
      "model_module_version": "1.2.0",
      "model_name": "LayoutModel",
      "state": {}
     },
     "516a618b978243db89bc84179de55249": {
      "model_module": "@jupyter-widgets/base",
      "model_module_version": "1.2.0",
      "model_name": "LayoutModel",
      "state": {}
     },
     "51cda927ab994b53933ee1479ac4b70e": {
      "model_module": "@jupyter-widgets/controls",
      "model_module_version": "1.5.0",
      "model_name": "ButtonStyleModel",
      "state": {}
     },
     "697f1136ba1a4700b74bfb74f3b73909": {
      "model_module": "@jupyter-widgets/controls",
      "model_module_version": "1.5.0",
      "model_name": "ImageModel",
      "state": {
       "layout": "IPY_MODEL_44f252b8a44d4780b1407a8043699179",
       "width": "900.0"
      }
     },
     "6daf32136f944b45bf7ad7cbc6067420": {
      "model_module": "@jupyter-widgets/controls",
      "model_module_version": "1.5.0",
      "model_name": "HBoxModel",
      "state": {
       "children": [
        "IPY_MODEL_d72cceebca994d11b630eb98889f33dc",
        "IPY_MODEL_dd43e20f50d649058bf3505ff34d1f90"
       ],
       "layout": "IPY_MODEL_516a618b978243db89bc84179de55249"
      }
     },
     "723ab4e63bbb4948a893c4d13861af7a": {
      "model_module": "@jupyter-widgets/base",
      "model_module_version": "1.2.0",
      "model_name": "LayoutModel",
      "state": {}
     },
     "77cd13df22f94d2f9dea34a7d39f2177": {
      "model_module": "@jupyter-widgets/controls",
      "model_module_version": "1.5.0",
      "model_name": "LinkModel",
      "state": {
       "source": [
        "IPY_MODEL_d72cceebca994d11b630eb98889f33dc",
        "value"
       ],
       "target": [
        "IPY_MODEL_925325e6d12e4d24b9bc5aec918548d3",
        "frame"
       ]
      }
     },
     "7c62afbd6db447db96cca968f1207334": {
      "model_module": "@jupyter-widgets/controls",
      "model_module_version": "1.5.0",
      "model_name": "LinkModel",
      "state": {
       "source": [
        "IPY_MODEL_d72cceebca994d11b630eb98889f33dc",
        "max"
       ],
       "target": [
        "IPY_MODEL_925325e6d12e4d24b9bc5aec918548d3",
        "max_frame"
       ]
      }
     },
     "925325e6d12e4d24b9bc5aec918548d3": {
      "model_module": "nglview-js-widgets",
      "model_module_version": "3.0.1",
      "model_name": "NGLModel",
      "state": {
       "_camera_orientation": [
        109.89439595187766,
        0,
        0,
        0,
        0,
        109.89439595187766,
        0,
        0,
        0,
        0,
        109.89439595187766,
        0,
        55.32987403869629,
        6.366574287414551,
        23.3510684967041,
        1
       ],
       "_camera_str": "orthographic",
       "_gui_theme": null,
       "_ibtn_fullscreen": "IPY_MODEL_a09130615f424ad9acff88014dc8e809",
       "_igui": null,
       "_iplayer": "IPY_MODEL_6daf32136f944b45bf7ad7cbc6067420",
       "_ngl_color_dict": {},
       "_ngl_coordinate_resource": {},
       "_ngl_full_stage_parameters": {
        "ambientColor": 14540253,
        "ambientIntensity": 0.2,
        "backgroundColor": "white",
        "cameraEyeSep": 0.3,
        "cameraFov": 40,
        "cameraType": "perspective",
        "clipDist": 10,
        "clipFar": 100,
        "clipNear": 0,
        "fogFar": 100,
        "fogNear": 50,
        "hoverTimeout": 0,
        "impostor": true,
        "lightColor": 14540253,
        "lightIntensity": 1,
        "mousePreset": "default",
        "panSpeed": 1,
        "quality": "medium",
        "rotateSpeed": 2,
        "sampleLevel": 0,
        "tooltip": true,
        "workerDefault": true,
        "zoomSpeed": 1.2
       },
       "_ngl_msg_archive": [
        {
         "args": [
          {
           "binary": false,
           "data": "\n OpenBabel05072119183D\n\n 33 36  0  0  0  0  0  0  0  0999 V2000\n  -49.5160    0.9560  -17.7030 C   0  0  0  0  0  0  0  0  0  0  0  0\n  -48.7000    0.4840  -18.7290 C   0  0  0  0  0  0  0  0  0  0  0  0\n  -49.2030    0.4930  -20.0320 C   0  0  0  0  0  3  0  0  0  0  0  0\n  -50.4800    1.0390  -20.3320 C   0  0  0  0  0  0  0  0  0  0  0  0\n  -51.2430    1.5920  -19.2960 C   0  0  0  0  0  0  0  0  0  0  0  0\n  -50.7540    1.5350  -18.0000 C   0  0  0  0  0  3  0  0  0  0  0  0\n  -52.4270    2.1710  -19.4930 N   0  0  0  0  0  0  0  0  0  0  0  0\n  -52.8760    2.2020  -20.7510 C   0  0  0  0  0  3  0  0  0  0  0  0\n  -52.2520    1.6990  -21.8190 N   0  0  0  0  0  0  0  0  0  0  0  0\n  -51.0680    1.0960  -21.6120 C   0  0  0  0  0  0  0  0  0  0  0  0\n  -50.4030    0.5070  -22.7110 N   0  0  0  0  0  0  0  0  0  0  0  0\n  -50.0190   -0.4010  -22.4820 H   0  0  0  0  0  0  0  0  0  0  0  0\n  -50.5720    0.7230  -24.0930 C   0  0  0  0  0  0  0  0  0  0  0  0\n  -50.9630   -0.3510  -24.9090 C   0  0  0  0  0  3  0  0  0  0  0  0\n  -51.1310   -0.1780  -26.2860 C   0  0  0  0  0  0  0  0  0  0  0  0\n  -50.8970    1.0640  -26.8650 C   0  0  0  0  0  0  0  0  0  0  0  0\n  -50.4920    2.1360  -26.0800 C   0  0  0  0  0  3  0  0  0  0  0  0\n  -50.3260    1.9630  -24.7020 C   0  0  0  0  0  3  0  0  0  0  0  0\n  -51.0490    1.2490  -28.1830 F   0  0  0  0  0  0  0  0  0  0  0  0\n  -51.6270   -1.5180  -27.2490 Cl  0  0  0  0  0  0  0  0  0  0  0  0\n  -50.1090    1.5790  -15.5820 C   0  0  0  0  0  1  0  0  0  0  0  0\n  -49.1280    0.9160  -16.3900 O   0  0  0  0  0  0  0  0  0  0  0  0\n  -47.4380   -0.0280  -18.6140 O   0  0  0  0  0  0  0  0  0  0  0  0\n  -47.2340   -1.1410  -17.7410 C   0  0  0  0  0  2  0  0  0  0  0  0\n  -48.1170   -2.3340  -18.1110 C   0  0  0  0  0  2  0  0  0  0  0  0\n  -47.4780   -3.3260  -19.0750 C   0  0  0  0  0  2  0  0  0  0  0  0\n  -47.8900   -3.2030  -20.5230 N   0  0  0  0  0  4  0  0  0  0  0  0\n  -49.3860   -3.0070  -20.7710 C   0  0  0  0  0  2  0  0  0  0  0  0\n  -49.6680   -3.1330  -22.2740 C   0  0  0  0  0  2  0  0  0  0  0  0\n  -48.8920   -2.1920  -23.0250 O   0  0  0  0  0  0  0  0  0  0  0  0\n  -47.4840   -2.3780  -22.8390 C   0  0  0  0  0  2  0  0  0  0  0  0\n  -47.0960   -2.2120  -21.3630 C   0  0  0  0  0  2  0  0  0  0  0  0\n  -47.6710   -4.1240  -20.9270 H   0  0  0  0  0  0  0  0  0  0  0  0\n  1 22  1  0  0  0  0\n  2 23  1  0  0  0  0\n  2  1  2  0  0  0  0\n  3  2  1  0  0  0  0\n  4  3  2  0  0  0  0\n  4  5  1  0  0  0  0\n  5  6  2  0  0  0  0\n  6  1  1  0  0  0  0\n  7  5  1  0  0  0  0\n  8  7  2  0  0  0  0\n  9 10  2  0  0  0  0\n  9  8  1  0  0  0  0\n 10  4  1  0  0  0  0\n 11 12  1  0  0  0  0\n 11 10  1  0  0  0  0\n 13 11  1  0  0  0  0\n 14 13  2  0  0  0  0\n 15 14  1  0  0  0  0\n 16 15  2  0  0  0  0\n 16 17  1  0  0  0  0\n 17 18  2  0  0  0  0\n 18 13  1  0  0  0  0\n 19 16  1  0  0  0  0\n 20 15  1  0  0  0  0\n 22 21  1  0  0  0  0\n 23 24  1  0  0  0  0\n 25 24  1  0  0  0  0\n 26 25  1  0  0  0  0\n 27 26  1  0  0  0  0\n 28 27  1  0  0  0  0\n 29 28  1  0  0  0  0\n 30 31  1  0  0  0  0\n 30 29  1  0  0  0  0\n 31 32  1  0  0  0  0\n 32 27  1  0  0  0  0\n 33 27  1  0  0  0  0\nM  END\n>  <minimizedAffinity>\n-8.43420601\n\n$$$$\n",
           "type": "blob"
          }
         ],
         "kwargs": {
          "defaultRepresentation": false,
          "ext": "sdf"
         },
         "methodName": "loadFile",
         "reconstruc_color_scheme": false,
         "target": "Stage",
         "type": "call_method"
        },
        {
         "args": [],
         "component_index": 0,
         "kwargs": {},
         "methodName": "removeAllRepresentations",
         "reconstruc_color_scheme": false,
         "target": "compList",
         "type": "call_method"
        },
        {
         "args": [
          "licorice"
         ],
         "component_index": 0,
         "kwargs": {},
         "methodName": "addRepresentation",
         "reconstruc_color_scheme": false,
         "target": "compList",
         "type": "call_method"
        },
        {
         "args": [
          {
           "binary": false,
           "data": "rcsb://2ito.pdb",
           "type": "url"
          }
         ],
         "kwargs": {
          "defaultRepresentation": true
         },
         "methodName": "loadFile",
         "reconstruc_color_scheme": false,
         "target": "Stage",
         "type": "call_method"
        }
       ],
       "_ngl_original_stage_parameters": {
        "ambientColor": 14540253,
        "ambientIntensity": 0.2,
        "backgroundColor": "white",
        "cameraEyeSep": 0.3,
        "cameraFov": 40,
        "cameraType": "perspective",
        "clipDist": 10,
        "clipFar": 100,
        "clipNear": 0,
        "fogFar": 100,
        "fogNear": 50,
        "hoverTimeout": 0,
        "impostor": true,
        "lightColor": 14540253,
        "lightIntensity": 1,
        "mousePreset": "default",
        "panSpeed": 1,
        "quality": "medium",
        "rotateSpeed": 2,
        "sampleLevel": 0,
        "tooltip": true,
        "workerDefault": true,
        "zoomSpeed": 1.2
       },
       "_ngl_repr_dict": {
        "0": {
         "0": {
          "params": {
           "assembly": "default",
           "bondScale": 0.4,
           "bondSpacing": 1,
           "clipCenter": {
            "x": 0,
            "y": 0,
            "z": 0
           },
           "clipNear": 0,
           "clipRadius": 0,
           "colorMode": "hcl",
           "colorReverse": false,
           "colorScale": "",
           "colorScheme": "element",
           "colorValue": 9474192,
           "cylinderOnly": false,
           "defaultAssembly": "",
           "depthWrite": true,
           "diffuse": 16777215,
           "diffuseInterior": false,
           "disableImpostor": false,
           "disablePicking": false,
           "flatShaded": false,
           "interiorColor": 2236962,
           "interiorDarkening": 0,
           "lazy": false,
           "lineOnly": false,
           "linewidth": 2,
           "matrix": {
            "elements": [
             1,
             0,
             0,
             0,
             0,
             1,
             0,
             0,
             0,
             0,
             1,
             0,
             0,
             0,
             0,
             1
            ]
           },
           "metalness": 0,
           "multipleBond": "off",
           "opacity": 1,
           "openEnded": true,
           "quality": "medium",
           "radialSegments": 10,
           "radiusData": {},
           "radiusScale": 1,
           "radiusSize": 0.15,
           "radiusType": "size",
           "roughness": 0.4,
           "sele": "",
           "side": "double",
           "sphereDetail": 1,
           "useInteriorColor": true,
           "visible": true,
           "wireframe": false
          },
          "type": "licorice"
         }
        },
        "1": {
         "0": {
          "params": {
           "aspectRatio": 5,
           "assembly": "default",
           "capped": true,
           "clipCenter": {
            "x": 0,
            "y": 0,
            "z": 0
           },
           "clipNear": 0,
           "clipRadius": 0,
           "colorMode": "hcl",
           "colorReverse": true,
           "colorScale": "spectral",
           "colorScheme": "residueindex",
           "colorValue": 9474192,
           "defaultAssembly": "BU1",
           "depthWrite": true,
           "diffuse": 16777215,
           "diffuseInterior": false,
           "disablePicking": false,
           "flatShaded": false,
           "interiorColor": 2236962,
           "interiorDarkening": 0,
           "lazy": false,
           "matrix": {
            "elements": [
             1,
             0,
             0,
             0,
             0,
             1,
             0,
             0,
             0,
             0,
             1,
             0,
             0,
             0,
             0,
             1
            ]
           },
           "metalness": 0,
           "opacity": 1,
           "quality": "high",
           "radialSegments": 20,
           "radiusData": {},
           "radiusScale": 0.7,
           "radiusSize": 1,
           "radiusType": "sstruc",
           "roughness": 0.4,
           "sele": "",
           "side": "double",
           "smoothSheet": false,
           "subdiv": 6,
           "tension": null,
           "useInteriorColor": true,
           "visible": true,
           "wireframe": false
          },
          "type": "cartoon"
         },
         "1": {
          "params": {
           "aspectRatio": 1,
           "assembly": "default",
           "bondScale": 0.4,
           "clipCenter": {
            "x": 0,
            "y": 0,
            "z": 0
           },
           "clipNear": 0,
           "clipRadius": 0,
           "colorMode": "hcl",
           "colorReverse": true,
           "colorScale": "spectral",
           "colorScheme": "residueindex",
           "colorValue": 9474192,
           "cylinderOnly": false,
           "defaultAssembly": "BU1",
           "depthWrite": true,
           "diffuse": 16777215,
           "diffuseInterior": false,
           "disableImpostor": false,
           "disablePicking": false,
           "flatShaded": false,
           "interiorColor": 2236962,
           "interiorDarkening": 0,
           "lazy": false,
           "lineOnly": false,
           "linewidth": 2,
           "matrix": {
            "elements": [
             1,
             0,
             0,
             0,
             0,
             1,
             0,
             0,
             0,
             0,
             1,
             0,
             0,
             0,
             0,
             1
            ]
           },
           "metalness": 0,
           "opacity": 1,
           "openEnded": true,
           "quality": "high",
           "radialSegments": 20,
           "radiusData": {},
           "radiusScale": 1,
           "radiusSize": 0.3,
           "radiusType": "size",
           "roughness": 0.4,
           "sele": "",
           "side": "double",
           "sphereDetail": 2,
           "useInteriorColor": true,
           "visible": true,
           "wireframe": false
          },
          "type": "base"
         },
         "2": {
          "params": {
           "aspectRatio": 1.5,
           "assembly": "default",
           "bondScale": 0.3,
           "bondSpacing": 0.75,
           "clipCenter": {
            "x": 0,
            "y": 0,
            "z": 0
           },
           "clipNear": 0,
           "clipRadius": 0,
           "colorMode": "hcl",
           "colorReverse": false,
           "colorScale": "",
           "colorScheme": "element",
           "colorValue": 9474192,
           "cylinderOnly": false,
           "defaultAssembly": "BU1",
           "depthWrite": true,
           "diffuse": 16777215,
           "diffuseInterior": false,
           "disableImpostor": false,
           "disablePicking": false,
           "flatShaded": false,
           "interiorColor": 2236962,
           "interiorDarkening": 0,
           "lazy": false,
           "lineOnly": false,
           "linewidth": 2,
           "matrix": {
            "elements": [
             1,
             0,
             0,
             0,
             0,
             1,
             0,
             0,
             0,
             0,
             1,
             0,
             0,
             0,
             0,
             1
            ]
           },
           "metalness": 0,
           "multipleBond": "off",
           "opacity": 1,
           "openEnded": true,
           "quality": "high",
           "radialSegments": 20,
           "radiusData": {},
           "radiusScale": 2,
           "radiusSize": 0.15,
           "radiusType": "size",
           "roughness": 0.4,
           "sele": "ligand",
           "side": "double",
           "sphereDetail": 2,
           "useInteriorColor": true,
           "visible": true,
           "wireframe": false
          },
          "type": "ball+stick"
         }
        }
       },
       "_ngl_serialize": false,
       "_ngl_version": "2.0.0-dev.36",
       "_ngl_view_id": [
        "11B3ABDB-FC7C-4F45-9EAF-BA58990C14F4"
       ],
       "_player_dict": {},
       "_scene_position": {},
       "_scene_rotation": {},
       "_synced_model_ids": [],
       "_synced_repr_model_ids": [],
       "_view_height": "",
       "_view_width": "",
       "background": "white",
       "frame": 0,
       "gui_style": null,
       "layout": "IPY_MODEL_723ab4e63bbb4948a893c4d13861af7a",
       "max_frame": 0,
       "n_components": 2,
       "picked": {}
      }
     },
     "9d275602ac7240c5bba57439e68b54eb": {
      "model_module": "nglview-js-widgets",
      "model_module_version": "3.0.1",
      "model_name": "ColormakerRegistryModel",
      "state": {
       "_msg_ar": [],
       "_msg_q": [],
       "_ready": true,
       "layout": "IPY_MODEL_19e68c1820e449bbb10e70180de28e10"
      }
     },
     "a09130615f424ad9acff88014dc8e809": {
      "model_module": "@jupyter-widgets/controls",
      "model_module_version": "1.5.0",
      "model_name": "ButtonModel",
      "state": {
       "icon": "compress",
       "layout": "IPY_MODEL_ade4516c73f0494fa1c646f8cd3332e6",
       "style": "IPY_MODEL_51cda927ab994b53933ee1479ac4b70e"
      }
     },
     "ade4516c73f0494fa1c646f8cd3332e6": {
      "model_module": "@jupyter-widgets/base",
      "model_module_version": "1.2.0",
      "model_name": "LayoutModel",
      "state": {
       "width": "34px"
      }
     },
     "bcc26ff9762f4cedbff8f0b565826f13": {
      "model_module": "@jupyter-widgets/base",
      "model_module_version": "1.2.0",
      "model_name": "LayoutModel",
      "state": {}
     },
     "d72cceebca994d11b630eb98889f33dc": {
      "model_module": "@jupyter-widgets/controls",
      "model_module_version": "1.5.0",
      "model_name": "PlayModel",
      "state": {
       "layout": "IPY_MODEL_f83fcd138f384373aaff2a1b328db1aa",
       "max": 0,
       "style": "IPY_MODEL_0004244043d44e368fa0bdc4167c75bf"
      }
     },
     "dd43e20f50d649058bf3505ff34d1f90": {
      "model_module": "@jupyter-widgets/controls",
      "model_module_version": "1.5.0",
      "model_name": "IntSliderModel",
      "state": {
       "layout": "IPY_MODEL_bcc26ff9762f4cedbff8f0b565826f13",
       "max": 0,
       "style": "IPY_MODEL_ee433ed518ac41f7ad01593ffd760e99"
      }
     },
     "ee433ed518ac41f7ad01593ffd760e99": {
      "model_module": "@jupyter-widgets/controls",
      "model_module_version": "1.5.0",
      "model_name": "SliderStyleModel",
      "state": {
       "description_width": ""
      }
     },
     "f5e1668329aa44c3b05130eddf93ec4f": {
      "model_module": "@jupyter-widgets/base",
      "model_module_version": "1.2.0",
      "model_name": "LayoutModel",
      "state": {}
     },
     "f7a13995e19a4d859566f4ad8f266627": {
      "model_module": "@jupyter-widgets/controls",
      "model_module_version": "1.5.0",
      "model_name": "LinkModel",
      "state": {
       "source": [
        "IPY_MODEL_dd43e20f50d649058bf3505ff34d1f90",
        "max"
       ],
       "target": [
        "IPY_MODEL_925325e6d12e4d24b9bc5aec918548d3",
        "max_frame"
       ]
      }
     },
     "f83fcd138f384373aaff2a1b328db1aa": {
      "model_module": "@jupyter-widgets/base",
      "model_module_version": "1.2.0",
      "model_name": "LayoutModel",
      "state": {}
     }
    },
    "version_major": 2,
    "version_minor": 0
   }
  }
 },
 "nbformat": 4,
 "nbformat_minor": 4
}
